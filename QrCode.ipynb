{
 "cells": [
  {
   "cell_type": "code",
   "execution_count": null,
   "id": "7f740d4f",
   "metadata": {},
   "outputs": [],
   "source": [
    "import qrcode\n",
    "qr = qrcode.make(\"HAI I AM VINAY MALLULA AN ASPIRING SOFTWARE DEVELOPER\")\n",
    "data = \"https://chat.whatsapp.com/HFO5aZ3QrYx1K1XhJQbJPm\"\n",
    "qr=qrcode.make(data)\n",
    "qr.save(\"newpro.png\")\n",
    "qr.show()"
   ]
  }
 ],
 "metadata": {
  "kernelspec": {
   "display_name": "Python 3 (ipykernel)",
   "language": "python",
   "name": "python3"
  },
  "language_info": {
   "codemirror_mode": {
    "name": "ipython",
    "version": 3
   },
   "file_extension": ".py",
   "mimetype": "text/x-python",
   "name": "python",
   "nbconvert_exporter": "python",
   "pygments_lexer": "ipython3",
   "version": "3.11.4"
  }
 },
 "nbformat": 4,
 "nbformat_minor": 5
}
